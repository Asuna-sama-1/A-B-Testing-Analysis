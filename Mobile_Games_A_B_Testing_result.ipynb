{
  "nbformat": 4,
  "nbformat_minor": 0,
  "metadata": {
    "colab": {
      "name": "Mobile Games: A/B Testing.ipynb",
      "provenance": [],
      "toc_visible": true,
      "authorship_tag": "ABX9TyMhVJocJYlsQ+E/HeaWXVmN",
      "include_colab_link": true
    },
    "kernelspec": {
      "name": "python3",
      "display_name": "Python 3"
    },
    "language_info": {
      "name": "python"
    }
  },
  "cells": [
    {
      "cell_type": "markdown",
      "metadata": {
        "id": "view-in-github",
        "colab_type": "text"
      },
      "source": [
        "<a href=\"https://colab.research.google.com/github/Asuna-sama-1/A-B-Testing-Analysis/blob/main/Mobile_Games_A_B_Testing_result.ipynb\" target=\"_parent\"><img src=\"https://colab.research.google.com/assets/colab-badge.svg\" alt=\"Open In Colab\"/></a>"
      ]
    },
    {
      "cell_type": "markdown",
      "source": [
        "**A/B Testing Results Analysis** "
      ],
      "metadata": {
        "id": "NqR3zv2Ab6KW"
      }
    },
    {
      "cell_type": "markdown",
      "source": [
        "## Rounds Played"
      ],
      "metadata": {
        "id": "Mop-vEX1cMcP"
      }
    },
    {
      "cell_type": "code",
      "execution_count": 120,
      "metadata": {
        "id": "Fao9UYh0bpYy"
      },
      "outputs": [],
      "source": [
        "import pandas as pd\n",
        "import numpy as np \n",
        "import random \n",
        "import statistics\n",
        "from scipy.stats import stats,norm\n",
        "import statsmodels.api as sm \n",
        "import matplotlib.pyplot as plt\n",
        "import seaborn as sns\n",
        "\n",
        "%matplotlib inline\n",
        "\n",
        "random.seed(42)"
      ]
    },
    {
      "cell_type": "code",
      "source": [
        "# read data \n",
        "data = pd.read_csv('cookie_cats.csv')\n",
        "data.tail(3)"
      ],
      "metadata": {
        "colab": {
          "base_uri": "https://localhost:8080/",
          "height": 142
        },
        "id": "yQOI7C0Wb2xh",
        "outputId": "f08f1086-eed9-4e08-db56-9b9166334b7c"
      },
      "execution_count": 84,
      "outputs": [
        {
          "output_type": "execute_result",
          "data": {
            "text/plain": [
              "        userid  version  sum_gamerounds  retention_1  retention_7\n",
              "90186  9999710  gate_30              28         True        False\n",
              "90187  9999768  gate_40              51         True        False\n",
              "90188  9999861  gate_40              16        False        False"
            ],
            "text/html": [
              "\n",
              "  <div id=\"df-74cf2aa4-5af7-4435-a35a-a533878d74eb\">\n",
              "    <div class=\"colab-df-container\">\n",
              "      <div>\n",
              "<style scoped>\n",
              "    .dataframe tbody tr th:only-of-type {\n",
              "        vertical-align: middle;\n",
              "    }\n",
              "\n",
              "    .dataframe tbody tr th {\n",
              "        vertical-align: top;\n",
              "    }\n",
              "\n",
              "    .dataframe thead th {\n",
              "        text-align: right;\n",
              "    }\n",
              "</style>\n",
              "<table border=\"1\" class=\"dataframe\">\n",
              "  <thead>\n",
              "    <tr style=\"text-align: right;\">\n",
              "      <th></th>\n",
              "      <th>userid</th>\n",
              "      <th>version</th>\n",
              "      <th>sum_gamerounds</th>\n",
              "      <th>retention_1</th>\n",
              "      <th>retention_7</th>\n",
              "    </tr>\n",
              "  </thead>\n",
              "  <tbody>\n",
              "    <tr>\n",
              "      <th>90186</th>\n",
              "      <td>9999710</td>\n",
              "      <td>gate_30</td>\n",
              "      <td>28</td>\n",
              "      <td>True</td>\n",
              "      <td>False</td>\n",
              "    </tr>\n",
              "    <tr>\n",
              "      <th>90187</th>\n",
              "      <td>9999768</td>\n",
              "      <td>gate_40</td>\n",
              "      <td>51</td>\n",
              "      <td>True</td>\n",
              "      <td>False</td>\n",
              "    </tr>\n",
              "    <tr>\n",
              "      <th>90188</th>\n",
              "      <td>9999861</td>\n",
              "      <td>gate_40</td>\n",
              "      <td>16</td>\n",
              "      <td>False</td>\n",
              "      <td>False</td>\n",
              "    </tr>\n",
              "  </tbody>\n",
              "</table>\n",
              "</div>\n",
              "      <button class=\"colab-df-convert\" onclick=\"convertToInteractive('df-74cf2aa4-5af7-4435-a35a-a533878d74eb')\"\n",
              "              title=\"Convert this dataframe to an interactive table.\"\n",
              "              style=\"display:none;\">\n",
              "        \n",
              "  <svg xmlns=\"http://www.w3.org/2000/svg\" height=\"24px\"viewBox=\"0 0 24 24\"\n",
              "       width=\"24px\">\n",
              "    <path d=\"M0 0h24v24H0V0z\" fill=\"none\"/>\n",
              "    <path d=\"M18.56 5.44l.94 2.06.94-2.06 2.06-.94-2.06-.94-.94-2.06-.94 2.06-2.06.94zm-11 1L8.5 8.5l.94-2.06 2.06-.94-2.06-.94L8.5 2.5l-.94 2.06-2.06.94zm10 10l.94 2.06.94-2.06 2.06-.94-2.06-.94-.94-2.06-.94 2.06-2.06.94z\"/><path d=\"M17.41 7.96l-1.37-1.37c-.4-.4-.92-.59-1.43-.59-.52 0-1.04.2-1.43.59L10.3 9.45l-7.72 7.72c-.78.78-.78 2.05 0 2.83L4 21.41c.39.39.9.59 1.41.59.51 0 1.02-.2 1.41-.59l7.78-7.78 2.81-2.81c.8-.78.8-2.07 0-2.86zM5.41 20L4 18.59l7.72-7.72 1.47 1.35L5.41 20z\"/>\n",
              "  </svg>\n",
              "      </button>\n",
              "      \n",
              "  <style>\n",
              "    .colab-df-container {\n",
              "      display:flex;\n",
              "      flex-wrap:wrap;\n",
              "      gap: 12px;\n",
              "    }\n",
              "\n",
              "    .colab-df-convert {\n",
              "      background-color: #E8F0FE;\n",
              "      border: none;\n",
              "      border-radius: 50%;\n",
              "      cursor: pointer;\n",
              "      display: none;\n",
              "      fill: #1967D2;\n",
              "      height: 32px;\n",
              "      padding: 0 0 0 0;\n",
              "      width: 32px;\n",
              "    }\n",
              "\n",
              "    .colab-df-convert:hover {\n",
              "      background-color: #E2EBFA;\n",
              "      box-shadow: 0px 1px 2px rgba(60, 64, 67, 0.3), 0px 1px 3px 1px rgba(60, 64, 67, 0.15);\n",
              "      fill: #174EA6;\n",
              "    }\n",
              "\n",
              "    [theme=dark] .colab-df-convert {\n",
              "      background-color: #3B4455;\n",
              "      fill: #D2E3FC;\n",
              "    }\n",
              "\n",
              "    [theme=dark] .colab-df-convert:hover {\n",
              "      background-color: #434B5C;\n",
              "      box-shadow: 0px 1px 3px 1px rgba(0, 0, 0, 0.15);\n",
              "      filter: drop-shadow(0px 1px 2px rgba(0, 0, 0, 0.3));\n",
              "      fill: #FFFFFF;\n",
              "    }\n",
              "  </style>\n",
              "\n",
              "      <script>\n",
              "        const buttonEl =\n",
              "          document.querySelector('#df-74cf2aa4-5af7-4435-a35a-a533878d74eb button.colab-df-convert');\n",
              "        buttonEl.style.display =\n",
              "          google.colab.kernel.accessAllowed ? 'block' : 'none';\n",
              "\n",
              "        async function convertToInteractive(key) {\n",
              "          const element = document.querySelector('#df-74cf2aa4-5af7-4435-a35a-a533878d74eb');\n",
              "          const dataTable =\n",
              "            await google.colab.kernel.invokeFunction('convertToInteractive',\n",
              "                                                     [key], {});\n",
              "          if (!dataTable) return;\n",
              "\n",
              "          const docLinkHtml = 'Like what you see? Visit the ' +\n",
              "            '<a target=\"_blank\" href=https://colab.research.google.com/notebooks/data_table.ipynb>data table notebook</a>'\n",
              "            + ' to learn more about interactive tables.';\n",
              "          element.innerHTML = '';\n",
              "          dataTable['output_type'] = 'display_data';\n",
              "          await google.colab.output.renderOutput(dataTable, element);\n",
              "          const docLink = document.createElement('div');\n",
              "          docLink.innerHTML = docLinkHtml;\n",
              "          element.appendChild(docLink);\n",
              "        }\n",
              "      </script>\n",
              "    </div>\n",
              "  </div>\n",
              "  "
            ]
          },
          "metadata": {},
          "execution_count": 84
        }
      ]
    },
    {
      "cell_type": "code",
      "source": [
        "data['version'] = np.where(data['version']== 'gate_30', 'A','B')"
      ],
      "metadata": {
        "id": "WJnY5GxLtuWT"
      },
      "execution_count": 110,
      "outputs": []
    },
    {
      "cell_type": "code",
      "source": [
        "print(len(data.userid.unique()),'rows of users data were collected.')"
      ],
      "metadata": {
        "colab": {
          "base_uri": "https://localhost:8080/"
        },
        "id": "v050pAP7d-9u",
        "outputId": "16acb466-e6dd-40eb-ec65-fa59edc1778c"
      },
      "execution_count": 85,
      "outputs": [
        {
          "output_type": "stream",
          "name": "stdout",
          "text": [
            "90189 rows of users data were collected.\n"
          ]
        }
      ]
    },
    {
      "cell_type": "code",
      "source": [
        "if len(data[data['version'] == 'gate_30']) + len(data[data['version'] == 'gate_40']) == len(data.userid.unique()):\n",
        "  print(\"Each user is test with one version!\")\n",
        "  print(len(data[data['version'] == 'gate_30']),'users were in gate 30.')\n",
        "  print(len(data[data['version'] == 'gate_40']),'users were in gate 40.' )\n",
        "else: \n",
        "  print(\"There are user are test with more than one version\")"
      ],
      "metadata": {
        "colab": {
          "base_uri": "https://localhost:8080/"
        },
        "id": "pHFAgkFohbEg",
        "outputId": "7bcfce0e-dc65-4403-bdb9-8bedc8c3a5b2"
      },
      "execution_count": 86,
      "outputs": [
        {
          "output_type": "stream",
          "name": "stdout",
          "text": [
            "Each user is test with one version!\n",
            "44700 users were in gate 30.\n",
            "45489 users were in gate 40.\n"
          ]
        }
      ]
    },
    {
      "cell_type": "markdown",
      "source": [
        "### Data cleaning"
      ],
      "metadata": {
        "id": "nez29ShInLRh"
      }
    },
    {
      "cell_type": "markdown",
      "source": [
        "1. identify outliers using histgram and boxplot\n",
        "2. removed outliers ( = 0 and > 3000) "
      ],
      "metadata": {
        "id": "dtkZ_gS4B0Xn"
      }
    },
    {
      "cell_type": "code",
      "source": [
        "#using histgram to visualize any outliers \n",
        "\n",
        "sns.set(rc={'figure.figsize':(10,8)})\n",
        "sns.histplot(data=data, x=\"sum_gamerounds\", kde=True,hue=\"version\",line_kws={\"lw\":3},bins=100)\n",
        "plt.title(\"The Distribution of Players\", fontweight=\"bold\")\n",
        "plt.xlabel(\"Total Gamerounds\")\n",
        "plt.ylabel(\"Number of Player\")\n",
        "plt.show()"
      ],
      "metadata": {
        "colab": {
          "base_uri": "https://localhost:8080/",
          "height": 518
        },
        "id": "LQ7tB7dsnTda",
        "outputId": "efae05fd-6227-4689-f917-0d035820b879"
      },
      "execution_count": 90,
      "outputs": [
        {
          "output_type": "display_data",
          "data": {
            "text/plain": [
              "<Figure size 720x576 with 1 Axes>"
            ],
            "image/png": "[encoded data removed]"
          },
          "metadata": {}
        }
      ]
    },
    {
      "cell_type": "code",
      "source": [
        "# dealling with users who played 0 rounds of game\n",
        "print('There are', data[ data['sum_gamerounds']==0].shape[0],'users who did not play the game at all.')\n",
        "data = data[data['sum_gamerounds']!=0].reset_index()"
      ],
      "metadata": {
        "colab": {
          "base_uri": "https://localhost:8080/"
        },
        "id": "j63l8CzVnnxZ",
        "outputId": "11baef0d-cd6c-4e36-e780-ad10a7a497c7"
      },
      "execution_count": 92,
      "outputs": [
        {
          "output_type": "stream",
          "name": "stdout",
          "text": [
            "There are 3994 users who did not play the game at all.\n"
          ]
        }
      ]
    },
    {
      "cell_type": "code",
      "source": [
        "# dealling with outliers\n",
        "# Total number of games distribution in log-scale\n",
        "\n",
        "sns.set(rc={'figure.figsize':(18,3)})\n",
        "ax=sns.boxplot(y = data.version, x = data.sum_gamerounds)\n",
        "ax.set_xscale('log')\n",
        "plt.title(\"Total Gamerounds by Version\")\n",
        "plt.xlabel(\"Total Gamerounds\")\n",
        "plt.ylabel(\"Version\")\n",
        "plt.show()"
      ],
      "metadata": {
        "colab": {
          "base_uri": "https://localhost:8080/",
          "height": 207
        },
        "id": "xe7HTnqklvnP",
        "outputId": "092a1bfe-e1cc-4589-c4cc-380082e6f2f8"
      },
      "execution_count": 93,
      "outputs": [
        {
          "output_type": "display_data",
          "data": {
            "text/plain": [
              "<Figure size 1296x216 with 1 Axes>"
            ],
            "image/png": "[encoded data removed]"
          },
          "metadata": {}
        }
      ]
    },
    {
      "cell_type": "markdown",
      "source": [
        "Outlier detected, thus remove rows with more than 3000 rounds played"
      ],
      "metadata": {
        "id": "vv6H1XcxmvEb"
      }
    },
    {
      "cell_type": "code",
      "source": [
        "data = data[ data['sum_gamerounds']<3000].reset_index()"
      ],
      "metadata": {
        "id": "AKoWjIgOm7G8"
      },
      "execution_count": 98,
      "outputs": []
    },
    {
      "cell_type": "code",
      "source": [
        "# visualization after remove outliers \n",
        "\n",
        "sns.set(rc={'figure.figsize':(20,7)})\n",
        "sns.histplot(data=data, x=\"sum_gamerounds\", kde=True,hue=\"version\",line_kws={\"lw\":3},bins=100)\n",
        "plt.title(\"The Distribution of Players\", fontweight=\"bold\")\n",
        "plt.xlabel(\"Total Gamerounds\")\n",
        "plt.ylabel(\"Number of Player\")\n",
        "plt.show()"
      ],
      "metadata": {
        "colab": {
          "base_uri": "https://localhost:8080/",
          "height": 346
        },
        "id": "uIbALHPdmhEu",
        "outputId": "40e87277-dff9-484d-e72d-f2e1235d8019"
      },
      "execution_count": 101,
      "outputs": [
        {
          "output_type": "display_data",
          "data": {
            "text/plain": [
              "<Figure size 1440x504 with 1 Axes>"
            ],
            "image/png": "[encoded data removed]"
          },
          "metadata": {}
        }
      ]
    },
    {
      "cell_type": "code",
      "source": [
        "data.sum_gamerounds.describe()"
      ],
      "metadata": {
        "colab": {
          "base_uri": "https://localhost:8080/"
        },
        "id": "XHQaXVO2sYc8",
        "outputId": "d915354e-e32a-4def-99e5-e234e34c8521"
      },
      "execution_count": 103,
      "outputs": [
        {
          "output_type": "execute_result",
          "data": {
            "text/plain": [
              "count    86194.000000\n",
              "mean        53.698297\n",
              "std        104.425174\n",
              "min          1.000000\n",
              "25%          6.000000\n",
              "50%         18.000000\n",
              "75%         54.000000\n",
              "max       2961.000000\n",
              "Name: sum_gamerounds, dtype: float64"
            ]
          },
          "metadata": {},
          "execution_count": 103
        }
      ]
    },
    {
      "cell_type": "code",
      "source": [
        "summary = data.groupby('version').sum_gamerounds.agg(['sum','mean','median','max','min'])\n",
        "summary"
      ],
      "metadata": {
        "colab": {
          "base_uri": "https://localhost:8080/",
          "height": 142
        },
        "id": "TZ4zR1I17EIE",
        "outputId": "adbfabb8-b30b-4134-b21e-b5f5237d0952"
      },
      "execution_count": 112,
      "outputs": [
        {
          "output_type": "execute_result",
          "data": {
            "text/plain": [
              "             sum       mean  median   max  min\n",
              "version                                       \n",
              "A        2294941  53.667766    18.0  2961    1\n",
              "B        2333530  53.728357    18.0  2640    1"
            ],
            "text/html": [
              "\n",
              "  <div id=\"df-6bec5862-0c04-4cc2-9fd0-26ae88b4295d\">\n",
              "    <div class=\"colab-df-container\">\n",
              "      <div>\n",
              "<style scoped>\n",
              "    .dataframe tbody tr th:only-of-type {\n",
              "        vertical-align: middle;\n",
              "    }\n",
              "\n",
              "    .dataframe tbody tr th {\n",
              "        vertical-align: top;\n",
              "    }\n",
              "\n",
              "    .dataframe thead th {\n",
              "        text-align: right;\n",
              "    }\n",
              "</style>\n",
              "<table border=\"1\" class=\"dataframe\">\n",
              "  <thead>\n",
              "    <tr style=\"text-align: right;\">\n",
              "      <th></th>\n",
              "      <th>sum</th>\n",
              "      <th>mean</th>\n",
              "      <th>median</th>\n",
              "      <th>max</th>\n",
              "      <th>min</th>\n",
              "    </tr>\n",
              "    <tr>\n",
              "      <th>version</th>\n",
              "      <th></th>\n",
              "      <th></th>\n",
              "      <th></th>\n",
              "      <th></th>\n",
              "      <th></th>\n",
              "    </tr>\n",
              "  </thead>\n",
              "  <tbody>\n",
              "    <tr>\n",
              "      <th>A</th>\n",
              "      <td>2294941</td>\n",
              "      <td>53.667766</td>\n",
              "      <td>18.0</td>\n",
              "      <td>2961</td>\n",
              "      <td>1</td>\n",
              "    </tr>\n",
              "    <tr>\n",
              "      <th>B</th>\n",
              "      <td>2333530</td>\n",
              "      <td>53.728357</td>\n",
              "      <td>18.0</td>\n",
              "      <td>2640</td>\n",
              "      <td>1</td>\n",
              "    </tr>\n",
              "  </tbody>\n",
              "</table>\n",
              "</div>\n",
              "      <button class=\"colab-df-convert\" onclick=\"convertToInteractive('df-6bec5862-0c04-4cc2-9fd0-26ae88b4295d')\"\n",
              "              title=\"Convert this dataframe to an interactive table.\"\n",
              "              style=\"display:none;\">\n",
              "        \n",
              "  <svg xmlns=\"http://www.w3.org/2000/svg\" height=\"24px\"viewBox=\"0 0 24 24\"\n",
              "       width=\"24px\">\n",
              "    <path d=\"M0 0h24v24H0V0z\" fill=\"none\"/>\n",
              "    <path d=\"M18.56 5.44l.94 2.06.94-2.06 2.06-.94-2.06-.94-.94-2.06-.94 2.06-2.06.94zm-11 1L8.5 8.5l.94-2.06 2.06-.94-2.06-.94L8.5 2.5l-.94 2.06-2.06.94zm10 10l.94 2.06.94-2.06 2.06-.94-2.06-.94-.94-2.06-.94 2.06-2.06.94z\"/><path d=\"M17.41 7.96l-1.37-1.37c-.4-.4-.92-.59-1.43-.59-.52 0-1.04.2-1.43.59L10.3 9.45l-7.72 7.72c-.78.78-.78 2.05 0 2.83L4 21.41c.39.39.9.59 1.41.59.51 0 1.02-.2 1.41-.59l7.78-7.78 2.81-2.81c.8-.78.8-2.07 0-2.86zM5.41 20L4 18.59l7.72-7.72 1.47 1.35L5.41 20z\"/>\n",
              "  </svg>\n",
              "      </button>\n",
              "      \n",
              "  <style>\n",
              "    .colab-df-container {\n",
              "      display:flex;\n",
              "      flex-wrap:wrap;\n",
              "      gap: 12px;\n",
              "    }\n",
              "\n",
              "    .colab-df-convert {\n",
              "      background-color: #E8F0FE;\n",
              "      border: none;\n",
              "      border-radius: 50%;\n",
              "      cursor: pointer;\n",
              "      display: none;\n",
              "      fill: #1967D2;\n",
              "      height: 32px;\n",
              "      padding: 0 0 0 0;\n",
              "      width: 32px;\n",
              "    }\n",
              "\n",
              "    .colab-df-convert:hover {\n",
              "      background-color: #E2EBFA;\n",
              "      box-shadow: 0px 1px 2px rgba(60, 64, 67, 0.3), 0px 1px 3px 1px rgba(60, 64, 67, 0.15);\n",
              "      fill: #174EA6;\n",
              "    }\n",
              "\n",
              "    [theme=dark] .colab-df-convert {\n",
              "      background-color: #3B4455;\n",
              "      fill: #D2E3FC;\n",
              "    }\n",
              "\n",
              "    [theme=dark] .colab-df-convert:hover {\n",
              "      background-color: #434B5C;\n",
              "      box-shadow: 0px 1px 3px 1px rgba(0, 0, 0, 0.15);\n",
              "      filter: drop-shadow(0px 1px 2px rgba(0, 0, 0, 0.3));\n",
              "      fill: #FFFFFF;\n",
              "    }\n",
              "  </style>\n",
              "\n",
              "      <script>\n",
              "        const buttonEl =\n",
              "          document.querySelector('#df-6bec5862-0c04-4cc2-9fd0-26ae88b4295d button.colab-df-convert');\n",
              "        buttonEl.style.display =\n",
              "          google.colab.kernel.accessAllowed ? 'block' : 'none';\n",
              "\n",
              "        async function convertToInteractive(key) {\n",
              "          const element = document.querySelector('#df-6bec5862-0c04-4cc2-9fd0-26ae88b4295d');\n",
              "          const dataTable =\n",
              "            await google.colab.kernel.invokeFunction('convertToInteractive',\n",
              "                                                     [key], {});\n",
              "          if (!dataTable) return;\n",
              "\n",
              "          const docLinkHtml = 'Like what you see? Visit the ' +\n",
              "            '<a target=\"_blank\" href=https://colab.research.google.com/notebooks/data_table.ipynb>data table notebook</a>'\n",
              "            + ' to learn more about interactive tables.';\n",
              "          element.innerHTML = '';\n",
              "          dataTable['output_type'] = 'display_data';\n",
              "          await google.colab.output.renderOutput(dataTable, element);\n",
              "          const docLink = document.createElement('div');\n",
              "          docLink.innerHTML = docLinkHtml;\n",
              "          element.appendChild(docLink);\n",
              "        }\n",
              "      </script>\n",
              "    </div>\n",
              "  </div>\n",
              "  "
            ]
          },
          "metadata": {},
          "execution_count": 112
        }
      ]
    },
    {
      "cell_type": "code",
      "source": [
        "(summary['sum'][1]-summary['sum'][0])/summary['sum'][0]*100"
      ],
      "metadata": {
        "colab": {
          "base_uri": "https://localhost:8080/"
        },
        "id": "Wy-DsIdm7sNp",
        "outputId": "0b0c5579-31b1-47f3-c02e-2c09c75e07d4"
      },
      "execution_count": 118,
      "outputs": [
        {
          "output_type": "execute_result",
          "data": {
            "text/plain": [
              "1.6814811361163533"
            ]
          },
          "metadata": {},
          "execution_count": 118
        }
      ]
    },
    {
      "cell_type": "markdown",
      "source": [
        "**Summary:** There are 90189 unique user data were collected for this exprienment. 44700 users were in gate 30 (version A) and 45489 users were in gate 40(version B). \n",
        "- There are outliers detected: removed players who has 0 round played and played more than 3000 rounds. \n",
        "- Total number of rounds played for version A is slightly higher than Version A by **1.68%**\n",
        "- Average number of rounds played are **53.7** for both version A and B. \n",
        "- Meian number of rounds played are **18.0** for both version A and B. "
      ],
      "metadata": {
        "id": "IsV_pcsNsGti"
      }
    },
    {
      "cell_type": "markdown",
      "source": [
        "### A/B Testing"
      ],
      "metadata": {
        "id": "4BlAQIv36tla"
      }
    },
    {
      "cell_type": "markdown",
      "source": [
        "#### Statistical Assumptions"
      ],
      "metadata": {
        "id": "iN9RBp4t8yv1"
      }
    },
    {
      "cell_type": "markdown",
      "source": [
        "**1. Indeependence**\n",
        "\n",
        "**2. Normality of data**\n",
        "\n",
        "**3. Homogeneity of variance**\n",
        "\n",
        "(If pass all, then **parametric**, else **non-parametric**)\n"
      ],
      "metadata": {
        "id": "XtC4Apm-82Z7"
      }
    },
    {
      "cell_type": "markdown",
      "source": [
        "##### Check Normality -(graph)"
      ],
      "metadata": {
        "id": "4kCkDb8ycOIb"
      }
    },
    {
      "cell_type": "code",
      "source": [
        "# 1. QQ Plot \n",
        "# If our data comes from a normal distribution, we should see all the points sitting on the straight line.\n",
        "import pylab\n",
        "stats.probplot(data.sum_gamerounds, dist='norm', plot=pylab)\n",
        "pylab.show()"
      ],
      "metadata": {
        "colab": {
          "base_uri": "https://localhost:8080/",
          "height": 355
        },
        "id": "s2lYXdVPQVkB",
        "outputId": "4997105c-8563-42c1-b089-3ababbcc193f"
      },
      "execution_count": 125,
      "outputs": [
        {
          "output_type": "display_data",
          "data": {
            "text/plain": [
              "<Figure size 360x360 with 1 Axes>"
            ],
            "image/png": "[encoded data removed]"
          },
          "metadata": {}
        }
      ]
    },
    {
      "cell_type": "code",
      "source": [
        "# 2. Box Plot \n",
        "# If your variable has a normal distribution, we should see the mean and median in the center.\n",
        "\n",
        "ax = sns.boxplot(data.sum_gamerounds)"
      ],
      "metadata": {
        "colab": {
          "base_uri": "https://localhost:8080/",
          "height": 393
        },
        "id": "bjcGXWBjQrOL",
        "outputId": "ff8245bc-c2b4-41b5-90b3-923e93270699"
      },
      "execution_count": 126,
      "outputs": [
        {
          "output_type": "stream",
          "name": "stderr",
          "text": [
            "/usr/local/lib/python3.7/dist-packages/seaborn/_decorators.py:43: FutureWarning: Pass the following variable as a keyword arg: x. From version 0.12, the only valid positional argument will be `data`, and passing other arguments without an explicit keyword will result in an error or misinterpretation.\n",
            "  FutureWarning\n"
          ]
        },
        {
          "output_type": "display_data",
          "data": {
            "text/plain": [
              "<Figure size 360x360 with 1 Axes>"
            ],
            "image/png": "[encoded data removed]"
          },
          "metadata": {}
        }
      ]
    },
    {
      "cell_type": "code",
      "source": [
        "# 3. Histogram \n",
        "#If your variable has a normal distribution, we should see a bell curve.\n",
        "\n",
        "sns.distplot(data.sum_gamerounds)"
      ],
      "metadata": {
        "colab": {
          "base_uri": "https://localhost:8080/",
          "height": 410
        },
        "id": "9II5D2NCRC_y",
        "outputId": "b7f9e9b2-f898-4642-d48a-37cfad743d02"
      },
      "execution_count": 127,
      "outputs": [
        {
          "output_type": "stream",
          "name": "stderr",
          "text": [
            "/usr/local/lib/python3.7/dist-packages/seaborn/distributions.py:2619: FutureWarning: `distplot` is a deprecated function and will be removed in a future version. Please adapt your code to use either `displot` (a figure-level function with similar flexibility) or `histplot` (an axes-level function for histograms).\n",
            "  warnings.warn(msg, FutureWarning)\n"
          ]
        },
        {
          "output_type": "execute_result",
          "data": {
            "text/plain": [
              "<matplotlib.axes._subplots.AxesSubplot at 0x7f0cdce26490>"
            ]
          },
          "metadata": {},
          "execution_count": 127
        },
        {
          "output_type": "display_data",
          "data": {
            "text/plain": [
              "<Figure size 360x360 with 1 Axes>"
            ],
            "image/png": "[encoded data removed]"
          },
          "metadata": {}
        }
      ]
    },
    {
      "cell_type": "markdown",
      "source": [
        "##### Check Normality -(Statistical test)"
      ],
      "metadata": {
        "id": "6OLtFBH7ROcM"
      }
    },
    {
      "cell_type": "code",
      "source": [
        "# 1. Shapiro- Wilk Test\n",
        "#If the p-value ≤ 0.05, then we reject the null hypothesis i.e. we assume the distribution of our variable is not normal/gaussian.\n",
        "#If the p-value > 0.05, then we fail to reject the null hypothesis i.e. we assume the distribution of our variable is normal/gaussian.\n",
        "\n",
        "from scipy.stats import shapiro \n",
        "\n",
        "def Shapiro_wilk(data):\n",
        "  stat, p = shapiro(data)\n",
        "  print('Stat = %.3f, p = %.3f\\n' %(stat, p ))\n",
        "  if p >0.05:\n",
        "    print(\"Probably Gaussian\")\n",
        "  else:\n",
        "    print(\"Probably Not Gaussian\\n\")\n",
        "\n",
        "Shapiro_wilk(data.sum_gamerounds)"
      ],
      "metadata": {
        "colab": {
          "base_uri": "https://localhost:8080/"
        },
        "id": "RxcyIdyeRQ2I",
        "outputId": "0e6743b4-005f-46de-9a83-74c4e5a377d0"
      },
      "execution_count": 132,
      "outputs": [
        {
          "output_type": "stream",
          "name": "stdout",
          "text": [
            "Stat = 0.492, p = 0.000\n",
            "\n",
            "Probably Not Gaussian\n",
            "\n"
          ]
        },
        {
          "output_type": "stream",
          "name": "stderr",
          "text": [
            "/usr/local/lib/python3.7/dist-packages/scipy/stats/morestats.py:1676: UserWarning: p-value may not be accurate for N > 5000.\n",
            "  warnings.warn(\"p-value may not be accurate for N > 5000.\")\n"
          ]
        }
      ]
    },
    {
      "cell_type": "code",
      "source": [
        "# 2.  D’Agostino’s K-squared Test\n",
        "#If the p-value ≤ 0.05, then we reject the null hypothesis i.e. we assume the distribution of our variable is not normal/gaussian.\n",
        "#If the p-value > 0.05, then we fail to reject the null hypothesis i.e. we assume the distribution of our variable is normal/gaussian.\n",
        "\n",
        "from scipy.stats import normaltest \n",
        "\n",
        "def k_squared(data):\n",
        "  stat, p = normaltest(data)\n",
        "  print('Stat = %.3f, p = %.3f\\n' %(stat, p ))\n",
        "  if p >0.05:\n",
        "    print(\"Probably Gaussian\")\n",
        "  else:\n",
        "    print(\"Probably Not Gaussian\\n\")\n",
        "\n",
        "k_squared(data.sum_gamerounds)"
      ],
      "metadata": {
        "colab": {
          "base_uri": "https://localhost:8080/"
        },
        "id": "UAd0sv8ESAON",
        "outputId": "223f8f46-b3af-461a-a8ce-2c3f1e8e2350"
      },
      "execution_count": 134,
      "outputs": [
        {
          "output_type": "stream",
          "name": "stdout",
          "text": [
            "Stat = 98529.876, p = 0.000\n",
            "\n",
            "Probably Not Gaussian\n",
            "\n"
          ]
        }
      ]
    },
    {
      "cell_type": "code",
      "source": [
        "# 3.  Anderson-Darling Normality Test\n",
        "#It gives a range of critical values, at which the null hypothesis can be failed to rejected if the calculated statistic is less than the critical value.\n",
        "\n",
        "from scipy.stats import anderson \n",
        "\n",
        "def anderson_test(data):\n",
        "  result = anderson(data)\n",
        "  print('Stat = %.3f\\n' %(result.statistic))\n",
        "  for i in range(len(result.critical_values)):\n",
        "    sig_lev, crit_val = result.significance_level[i], result.critical_values[i]\n",
        "    if result.statistic < crit_val:\n",
        "      print(f\"Probably Gaussian: {crit_val} critical value at {sig_lev} significance level\")\n",
        "    else:\n",
        "      print(f\"Probably Not Gaussian: {crit_val} critical value at {sig_lev} significance level\")\n",
        "\n",
        "anderson_test(data.sum_gamerounds)"
      ],
      "metadata": {
        "colab": {
          "base_uri": "https://localhost:8080/"
        },
        "id": "E8PhrLFsS5No",
        "outputId": "0f47b76d-f39b-4224-ca52-9038c78315a2"
      },
      "execution_count": 142,
      "outputs": [
        {
          "output_type": "stream",
          "name": "stdout",
          "text": [
            "Stat = 12556.470\n",
            "\n",
            "Probably Not Gaussian: 0.576 critical value at 15.0 significance level\n",
            "Probably Not Gaussian: 0.656 critical value at 10.0 significance level\n",
            "Probably Not Gaussian: 0.787 critical value at 5.0 significance level\n",
            "Probably Not Gaussian: 0.918 critical value at 2.5 significance level\n",
            "Probably Not Gaussian: 1.092 critical value at 1.0 significance level\n"
          ]
        }
      ]
    },
    {
      "cell_type": "code",
      "source": [
        "# 4. Chi-Square Normality Test\n",
        "#If the p-value ≤ 0.05, then we reject the null hypothesis i.e. we assume the distribution of our variable is not normal/gaussian.\n",
        "#If the p-value > 0.05, then we fail to reject the null hypothesis i.e. we assume the distribution of our variable is normal/gaussian.\n",
        "\n",
        "from scipy.stats import chisquare \n",
        "\n",
        "def chisquare_test(data):\n",
        "  stat, p = chisquare(data)\n",
        "  print('Stat = %.3f, p = %.3f\\n' %(stat, p ))\n",
        "  if p >0.05:\n",
        "    print(\"Probably Gaussian\")\n",
        "  else:\n",
        "    print(\"Probably Not Gaussian\\n\")\n",
        "\n",
        "chisquare_test(data.sum_gamerounds)"
      ],
      "metadata": {
        "colab": {
          "base_uri": "https://localhost:8080/"
        },
        "id": "CmW5f4c1UZdO",
        "outputId": "634267f2-85c6-4630-b331-db9fe3347bac"
      },
      "execution_count": 143,
      "outputs": [
        {
          "output_type": "stream",
          "name": "stdout",
          "text": [
            "Stat = 17503379.103, p = 0.000\n",
            "\n",
            "Probably Not Gaussian\n",
            "\n"
          ]
        }
      ]
    },
    {
      "cell_type": "code",
      "source": [
        "# 5.  Lilliefors Normality Test\n",
        "#If the p-value ≤ 0.05, then we reject the null hypothesis i.e. we assume the distribution of our variable is not normal/gaussian.\n",
        "#If the p-value > 0.05, then we fail to reject the null hypothesis i.e. we assume the distribution of our variable is normal/gaussian.\n",
        "\n",
        "from statsmodels.stats.diagnostic import lilliefors\n",
        "\n",
        "def lilliefors_test(data):\n",
        "  stat, p = lilliefors(data)\n",
        "  print('Stat = %.3f, p = %.3f\\n' %(stat, p ))\n",
        "  if p >0.05:\n",
        "    print(\"Probably Gaussian\")\n",
        "  else:\n",
        "    print(\"Probably Not Gaussian\\n\")\n",
        "\n",
        "lilliefors_test(data.sum_gamerounds)"
      ],
      "metadata": {
        "colab": {
          "base_uri": "https://localhost:8080/"
        },
        "id": "_bkZTR52Ul9R",
        "outputId": "7916c6b8-c862-4713-ca60-b932d8419179"
      },
      "execution_count": 152,
      "outputs": [
        {
          "output_type": "stream",
          "name": "stdout",
          "text": [
            "Stat = 0.307, p = 0.000\n",
            "\n",
            "Probably Not Gaussian\n",
            "\n"
          ]
        }
      ]
    },
    {
      "cell_type": "code",
      "source": [
        "# 6.   Jarque–Bera Normality Test\n",
        "# only works for > 2000\n",
        "#If the p-value ≤ 0.05, then we reject the null hypothesis i.e. we assume the distribution of our variable is not normal/gaussian.\n",
        "#If the p-value > 0.05, then we fail to reject the null hypothesis i.e. we assume the distribution of our variable is normal/gaussian.\n",
        "\n",
        "from scipy.stats import jarque_bera\n",
        "\n",
        "def jarque_bera_test(data):\n",
        "  stat, p = jarque_bera(data)\n",
        "  print('Stat = %.3f, p = %.3f\\n' %(stat, p ))\n",
        "  if p >0.05:\n",
        "    print(\"Probably Gaussian\")\n",
        "  else:\n",
        "    print(\"Probably Not Gaussian\\n\")\n",
        "\n",
        "jarque_bera_test(data.sum_gamerounds)"
      ],
      "metadata": {
        "colab": {
          "base_uri": "https://localhost:8080/"
        },
        "id": "WifDNYgUVEU5",
        "outputId": "3548790d-5b02-4740-9437-daa97e9e4839"
      },
      "execution_count": 153,
      "outputs": [
        {
          "output_type": "stream",
          "name": "stdout",
          "text": [
            "Stat = 14855626.496, p = 0.000\n",
            "\n",
            "Probably Not Gaussian\n",
            "\n"
          ]
        }
      ]
    },
    {
      "cell_type": "code",
      "source": [
        "# 6. Kolmogorov-Smirnov Normality Test\n",
        "# on 1 or 2 samples (goodness of fit)\n",
        "#If the p-value ≤ 0.05, then we reject the null hypothesis i.e. we assume the distribution of our variable is not normal/gaussian.\n",
        "#If the p-value > 0.05, then we fail to reject the null hypothesis i.e. we assume the distribution of our variable is normal/gaussian.\n",
        "\n",
        "from scipy.stats import kstest\n",
        "\n",
        "def k_stest(data):\n",
        "  stat, p = kstest(data,'norm')\n",
        "  print('Stat = %.3f, p = %.3f\\n' %(stat, p ))\n",
        "  if p >0.05:\n",
        "    print(\"Probably Gaussian\")\n",
        "  else:\n",
        "    print(\"Probably Not Gaussian\\n\")\n",
        "\n",
        "k_stest(data.sum_gamerounds)"
      ],
      "metadata": {
        "colab": {
          "base_uri": "https://localhost:8080/"
        },
        "id": "_ZnsI2M0VlsW",
        "outputId": "b4beabb8-6c73-4824-b623-0e9b1e8e863f"
      },
      "execution_count": 156,
      "outputs": [
        {
          "output_type": "stream",
          "name": "stdout",
          "text": [
            "Stat = 0.913, p = 0.000\n",
            "\n",
            "Probably Not Gaussian\n",
            "\n"
          ]
        }
      ]
    },
    {
      "cell_type": "markdown",
      "source": [
        "#### Non-Parametric Test\n"
      ],
      "metadata": {
        "id": "QTNL4NRVWe25"
      }
    },
    {
      "cell_type": "markdown",
      "source": [
        "##### Probability Samplling "
      ],
      "metadata": {
        "id": "5N-zK2q0d_8p"
      }
    },
    {
      "cell_type": "markdown",
      "source": [
        "For non-parametric test, we are trying to compare the sample mean or sample median of verision A and B. It needs resampling method: **`Bootstrapping and Boostrap Quantile`** method, respectively.\n",
        "- **Bootstrapping** is a statistical procedure that resamples a single dataset to create many simulated samples.\n",
        "-**Boostrap Quantile** is a quantile estimator that is the median of a set of quantiles calculated by re-sampling the original sample a large number of times and computing a quantile for each sample\n"
      ],
      "metadata": {
        "id": "BOoIoJgGjSIo"
      }
    },
    {
      "cell_type": "code",
      "source": [
        "# boostrapping for resample \n",
        "n = 2000     #number of samples \n",
        "bootstrap_sum = pd.DataFrame([data.sample(frac=1, replace=True).groupby('version')['sum_gamerounds'].mean() for i in range(n)])\n",
        "\n",
        "bootstrap_sum.plot.kde()\n",
        "sns.set(rc={'figure.figsize':(18,5)})\n",
        "plt.title(\"KDE Plot of the Gamerounds' bootstrap distributions\", fontweight=\"bold\")\n",
        "plt.xlabel(\"Game rounds\")\n",
        "plt.show()"
      ],
      "metadata": {
        "colab": {
          "base_uri": "https://localhost:8080/",
          "height": 296
        },
        "id": "C-rg_UxYYwHI",
        "outputId": "6d39bb71-32df-4fcc-9b07-c67b3f6d9eb6"
      },
      "execution_count": 159,
      "outputs": [
        {
          "output_type": "display_data",
          "data": {
            "text/plain": [
              "<Figure size 1296x360 with 1 Axes>"
            ],
            "image/png": "[encoded data removed]"
          },
          "metadata": {}
        }
      ]
    },
    {
      "cell_type": "code",
      "source": [
        "bootstrap_sum['diff_mean'] = bootstrap_sum['B'] - bootstrap_sum['A']\n",
        "mean_pos_count = len(bootstrap_sum[bootstrap_sum['diff_mean'] > 0])\n",
        "p_mean_diff = mean_pos_count/n\n",
        "p_mean_diff\n",
        "\n",
        "#If the p-value is larger than the chosen significance level then we can state that we can’t reject the null. \n",
        "#Hence, there is not enough evidence to state that there is a statistically significant difference in Control and Experimental sample means."
      ],
      "metadata": {
        "colab": {
          "base_uri": "https://localhost:8080/"
        },
        "id": "JaGnfpYMsqoM",
        "outputId": "3b022711-026a-4c87-8de9-1ed804529f33"
      },
      "execution_count": 172,
      "outputs": [
        {
          "output_type": "execute_result",
          "data": {
            "text/plain": [
              "0.5525"
            ]
          },
          "metadata": {},
          "execution_count": 172
        }
      ]
    },
    {
      "cell_type": "code",
      "source": [
        "alpha = 0.05\n",
        "z_mean = np.mean(bootstrap_sum['B'])- np.mean(bootstrap_sum['A'])\n",
        "z_sigma = np.sqrt((np.var(bootstrap_sum['B'])/n + np.var(bootstrap_sum['A'])/n))\n",
        "print(\"           Mean of (verison B - verison A):\", z_mean)\n",
        "print(\"Standard Error of (verison B -  verison A):\", z_sigma)\n",
        "print(\"             CI of (verison B - verison A):\", [z_mean - norm.ppf(1-alpha/2)*z_sigma, z_mean + norm.ppf(1-alpha/2)*z_sigma] )"
      ],
      "metadata": {
        "colab": {
          "base_uri": "https://localhost:8080/"
        },
        "id": "anI8NBizxCfj",
        "outputId": "9e6d4081-6db8-4f38-93aa-5d3019705b0b"
      },
      "execution_count": 170,
      "outputs": [
        {
          "output_type": "stream",
          "name": "stdout",
          "text": [
            "           Mean of (verison B - verison A): 0.08748718899640551\n",
            "Standard Error of (verison B -  verison A): 0.015672991681790708\n",
            "             CI of (verison B - verison A): [0.05676868977009987, 0.11820568822271114]\n"
          ]
        }
      ]
    },
    {
      "cell_type": "code",
      "source": [
        "CI = np.percentile(bootstrap_sum['diff_mean'], [2.5, 97.5])\n",
        "CI"
      ],
      "metadata": {
        "colab": {
          "base_uri": "https://localhost:8080/"
        },
        "id": "9F0sT2LPyn7Y",
        "outputId": "b0c0a7e4-bdad-408f-d934-cc4f9c7cce97"
      },
      "execution_count": 169,
      "outputs": [
        {
          "output_type": "execute_result",
          "data": {
            "text/plain": [
              "array([-1.28041765,  1.51660147])"
            ]
          },
          "metadata": {},
          "execution_count": 169
        }
      ]
    },
    {
      "cell_type": "code",
      "source": [
        "counts,bins,ignored = plt.hist(bootstrap_sum['diff_mean'],50,density = True,color = 'purple')\n",
        "plt.xlabel(\"mean difference\")\n",
        "plt.title(\"Distribution of Bootstrapped samples mean difference\")\n",
        "plt.show()"
      ],
      "metadata": {
        "colab": {
          "base_uri": "https://localhost:8080/",
          "height": 301
        },
        "id": "o-iXO3nrzHua",
        "outputId": "3388b01e-7567-4607-cc53-1dee837cbdce"
      },
      "execution_count": 171,
      "outputs": [
        {
          "output_type": "display_data",
          "data": {
            "text/plain": [
              "<Figure size 1296x360 with 1 Axes>"
            ],
            "image/png": "[encoded data removed]"
          },
          "metadata": {}
        }
      ]
    },
    {
      "cell_type": "markdown",
      "source": [
        "##### Mann-Whitney U Tes"
      ],
      "metadata": {
        "id": "WUnH2deW1mj3"
      }
    },
    {
      "cell_type": "markdown",
      "source": [
        "**Parametric** tests are used only when a normal (or close to normal) distribution is assumed. \n",
        "\n",
        "- t-test \n",
        "- ANOVA\n",
        "\n",
        "\n",
        "**Non-parametric** tests are used when continuous data is not normally distributed or when data is discrete. \n",
        "\n",
        "- **chi-squared** : Large N, identify and you want to identify whether there exist a relationship between control and experimental groups\n",
        "\n",
        "\n",
        "- **Fisher’s exact tests** :  Small N, identify and you want to identify whether there exist a relationship between control and experimental groups\n",
        "\n",
        "- **Mann–Whitney U-test** : Small N or large N, skewed sampling distributions, testing the difference in medians between control and experimental groups\n"
      ],
      "metadata": {
        "id": "MaLWDFoeZrBt"
      }
    },
    {
      "cell_type": "markdown",
      "source": [
        "**H0 (Null hypothesis)** : There is **No** significant differene in sum_gamerounds between two versions\n",
        "\n",
        "**H1 (Alternative hypothesis)**:  There is significant differene in sum_gamerounds between two versions "
      ],
      "metadata": {
        "id": "CWi8bxUwznx5"
      }
    },
    {
      "cell_type": "code",
      "source": [
        "from scipy.stats import mannwhitneyu\n",
        "\n",
        "sum_gamerounds_A = data[data.version=='A'].sum_gamerounds\n",
        "sum_gamerounds_B = data[data.version=='B'].sum_gamerounds\n",
        "\n",
        "def mannwhitneyfunc(value1,value2):\n",
        "    stat, p=mannwhitneyu(value1,value2)\n",
        "    alpha=0.05 \n",
        "\n",
        "    print('p=%.4f , alpha=%.2f \\n'%(p,alpha))\n",
        "    if p > alpha:\n",
        "        print('Fail to reject H0; Two version have no significant difference')\n",
        "    else:\n",
        "        print('Have enough envidence to reject H0; Two version have a significant difference')\n",
        "\n",
        "mannwhitneyfunc(sum_gamerounds_A,sum_gamerounds_B)"
      ],
      "metadata": {
        "colab": {
          "base_uri": "https://localhost:8080/"
        },
        "id": "VZAP2XmgkTBC",
        "outputId": "241377bc-d3e2-4c7e-adc4-00a4416c9098"
      },
      "execution_count": 182,
      "outputs": [
        {
          "output_type": "stream",
          "name": "stdout",
          "text": [
            "p=0.0588 , alpha=0.05 \n",
            "\n",
            "Fail to reject H0; Two version have no significant difference\n"
          ]
        }
      ]
    },
    {
      "cell_type": "markdown",
      "source": [
        "**Summary:**\n",
        "\n",
        "- Two versions has no significant changes in number of rounds played. "
      ],
      "metadata": {
        "id": "9ZS-g5j1_Gc2"
      }
    },
    {
      "cell_type": "markdown",
      "source": [
        "## Retention"
      ],
      "metadata": {
        "id": "fzS1gJztPCY5"
      }
    },
    {
      "cell_type": "markdown",
      "source": [
        "### Data exploratin"
      ],
      "metadata": {
        "id": "HY-4ZPAi1xUG"
      }
    },
    {
      "cell_type": "code",
      "source": [
        "# what is the overall first day retention rate?\n",
        "\n",
        "data.retention_1.sum()/data.retention_1.count()*100"
      ],
      "metadata": {
        "colab": {
          "base_uri": "https://localhost:8080/"
        },
        "id": "hEvFgin8jLAj",
        "outputId": "cd759cb7-fdb6-4c81-c1c5-91459a7e4cea"
      },
      "execution_count": 185,
      "outputs": [
        {
          "output_type": "execute_result",
          "data": {
            "text/plain": [
              "46.48351393368448"
            ]
          },
          "metadata": {},
          "execution_count": 185
        }
      ]
    },
    {
      "cell_type": "code",
      "source": [
        "# what is the first day retention rate for each version?\n",
        "\n",
        "data.groupby('version').retention_1.sum()/data.groupby('version').retention_1.count()*100"
      ],
      "metadata": {
        "colab": {
          "base_uri": "https://localhost:8080/"
        },
        "id": "qWMys2MGcv96",
        "outputId": "64b8a8cf-cd42-414e-f3f4-50ee01affa3e"
      },
      "execution_count": 186,
      "outputs": [
        {
          "output_type": "execute_result",
          "data": {
            "text/plain": [
              "version\n",
              "A    46.754127\n",
              "B    46.217075\n",
              "Name: retention_1, dtype: float64"
            ]
          },
          "metadata": {},
          "execution_count": 186
        }
      ]
    },
    {
      "cell_type": "code",
      "source": [
        "# what is the overall 7th day retention rate?\n",
        "\n",
        "data.retention_7.sum()/data.retention_7.count()*100"
      ],
      "metadata": {
        "colab": {
          "base_uri": "https://localhost:8080/"
        },
        "id": "2OMla6lFkEZg",
        "outputId": "f4d58523-b5d1-491a-9cac-3f5a51e988b4"
      },
      "execution_count": 187,
      "outputs": [
        {
          "output_type": "execute_result",
          "data": {
            "text/plain": [
              "19.434067336473536"
            ]
          },
          "metadata": {},
          "execution_count": 187
        }
      ]
    },
    {
      "cell_type": "code",
      "source": [
        "# what is the 7th day retention rate for each version?\n",
        "\n",
        "data.groupby('version').retention_7.sum()/data.groupby('version').retention_7.count()*100"
      ],
      "metadata": {
        "colab": {
          "base_uri": "https://localhost:8080/"
        },
        "id": "czI1uevydt2c",
        "outputId": "bf12016c-2484-47e1-c88c-31f80abba866"
      },
      "execution_count": 188,
      "outputs": [
        {
          "output_type": "execute_result",
          "data": {
            "text/plain": [
              "version\n",
              "A    19.842383\n",
              "B    19.032050\n",
              "Name: retention_7, dtype: float64"
            ]
          },
          "metadata": {},
          "execution_count": 188
        }
      ]
    },
    {
      "cell_type": "code",
      "source": [
        "# How much does the retention drop from first day to 7th day?\n",
        "\n",
        "(data.groupby('version').retention_1.sum() - data.groupby('version').retention_7.sum())/data.groupby('version').retention_1.sum()*100"
      ],
      "metadata": {
        "colab": {
          "base_uri": "https://localhost:8080/"
        },
        "id": "zovA6HPtfXw7",
        "outputId": "3bd26fec-0055-4dc8-cf93-a09d1d78b27a"
      },
      "execution_count": 189,
      "outputs": [
        {
          "output_type": "execute_result",
          "data": {
            "text/plain": [
              "version\n",
              "A    57.560146\n",
              "B    58.820306\n",
              "dtype: float64"
            ]
          },
          "metadata": {},
          "execution_count": 189
        }
      ]
    },
    {
      "cell_type": "code",
      "source": [
        "data.groupby('version').agg({'retention_1':'mean','retention_7':'mean'})"
      ],
      "metadata": {
        "colab": {
          "base_uri": "https://localhost:8080/",
          "height": 142
        },
        "id": "NDajx31X2vO0",
        "outputId": "3bd39ecc-f1e2-4adf-ba18-901063ff7946"
      },
      "execution_count": 190,
      "outputs": [
        {
          "output_type": "execute_result",
          "data": {
            "text/plain": [
              "         retention_1  retention_7\n",
              "version                          \n",
              "A           0.467541     0.198424\n",
              "B           0.462171     0.190321"
            ],
            "text/html": [
              "\n",
              "  <div id=\"df-66867879-e064-4871-9eb2-000314a39cce\">\n",
              "    <div class=\"colab-df-container\">\n",
              "      <div>\n",
              "<style scoped>\n",
              "    .dataframe tbody tr th:only-of-type {\n",
              "        vertical-align: middle;\n",
              "    }\n",
              "\n",
              "    .dataframe tbody tr th {\n",
              "        vertical-align: top;\n",
              "    }\n",
              "\n",
              "    .dataframe thead th {\n",
              "        text-align: right;\n",
              "    }\n",
              "</style>\n",
              "<table border=\"1\" class=\"dataframe\">\n",
              "  <thead>\n",
              "    <tr style=\"text-align: right;\">\n",
              "      <th></th>\n",
              "      <th>retention_1</th>\n",
              "      <th>retention_7</th>\n",
              "    </tr>\n",
              "    <tr>\n",
              "      <th>version</th>\n",
              "      <th></th>\n",
              "      <th></th>\n",
              "    </tr>\n",
              "  </thead>\n",
              "  <tbody>\n",
              "    <tr>\n",
              "      <th>A</th>\n",
              "      <td>0.467541</td>\n",
              "      <td>0.198424</td>\n",
              "    </tr>\n",
              "    <tr>\n",
              "      <th>B</th>\n",
              "      <td>0.462171</td>\n",
              "      <td>0.190321</td>\n",
              "    </tr>\n",
              "  </tbody>\n",
              "</table>\n",
              "</div>\n",
              "      <button class=\"colab-df-convert\" onclick=\"convertToInteractive('df-66867879-e064-4871-9eb2-000314a39cce')\"\n",
              "              title=\"Convert this dataframe to an interactive table.\"\n",
              "              style=\"display:none;\">\n",
              "        \n",
              "  <svg xmlns=\"http://www.w3.org/2000/svg\" height=\"24px\"viewBox=\"0 0 24 24\"\n",
              "       width=\"24px\">\n",
              "    <path d=\"M0 0h24v24H0V0z\" fill=\"none\"/>\n",
              "    <path d=\"M18.56 5.44l.94 2.06.94-2.06 2.06-.94-2.06-.94-.94-2.06-.94 2.06-2.06.94zm-11 1L8.5 8.5l.94-2.06 2.06-.94-2.06-.94L8.5 2.5l-.94 2.06-2.06.94zm10 10l.94 2.06.94-2.06 2.06-.94-2.06-.94-.94-2.06-.94 2.06-2.06.94z\"/><path d=\"M17.41 7.96l-1.37-1.37c-.4-.4-.92-.59-1.43-.59-.52 0-1.04.2-1.43.59L10.3 9.45l-7.72 7.72c-.78.78-.78 2.05 0 2.83L4 21.41c.39.39.9.59 1.41.59.51 0 1.02-.2 1.41-.59l7.78-7.78 2.81-2.81c.8-.78.8-2.07 0-2.86zM5.41 20L4 18.59l7.72-7.72 1.47 1.35L5.41 20z\"/>\n",
              "  </svg>\n",
              "      </button>\n",
              "      \n",
              "  <style>\n",
              "    .colab-df-container {\n",
              "      display:flex;\n",
              "      flex-wrap:wrap;\n",
              "      gap: 12px;\n",
              "    }\n",
              "\n",
              "    .colab-df-convert {\n",
              "      background-color: #E8F0FE;\n",
              "      border: none;\n",
              "      border-radius: 50%;\n",
              "      cursor: pointer;\n",
              "      display: none;\n",
              "      fill: #1967D2;\n",
              "      height: 32px;\n",
              "      padding: 0 0 0 0;\n",
              "      width: 32px;\n",
              "    }\n",
              "\n",
              "    .colab-df-convert:hover {\n",
              "      background-color: #E2EBFA;\n",
              "      box-shadow: 0px 1px 2px rgba(60, 64, 67, 0.3), 0px 1px 3px 1px rgba(60, 64, 67, 0.15);\n",
              "      fill: #174EA6;\n",
              "    }\n",
              "\n",
              "    [theme=dark] .colab-df-convert {\n",
              "      background-color: #3B4455;\n",
              "      fill: #D2E3FC;\n",
              "    }\n",
              "\n",
              "    [theme=dark] .colab-df-convert:hover {\n",
              "      background-color: #434B5C;\n",
              "      box-shadow: 0px 1px 3px 1px rgba(0, 0, 0, 0.15);\n",
              "      filter: drop-shadow(0px 1px 2px rgba(0, 0, 0, 0.3));\n",
              "      fill: #FFFFFF;\n",
              "    }\n",
              "  </style>\n",
              "\n",
              "      <script>\n",
              "        const buttonEl =\n",
              "          document.querySelector('#df-66867879-e064-4871-9eb2-000314a39cce button.colab-df-convert');\n",
              "        buttonEl.style.display =\n",
              "          google.colab.kernel.accessAllowed ? 'block' : 'none';\n",
              "\n",
              "        async function convertToInteractive(key) {\n",
              "          const element = document.querySelector('#df-66867879-e064-4871-9eb2-000314a39cce');\n",
              "          const dataTable =\n",
              "            await google.colab.kernel.invokeFunction('convertToInteractive',\n",
              "                                                     [key], {});\n",
              "          if (!dataTable) return;\n",
              "\n",
              "          const docLinkHtml = 'Like what you see? Visit the ' +\n",
              "            '<a target=\"_blank\" href=https://colab.research.google.com/notebooks/data_table.ipynb>data table notebook</a>'\n",
              "            + ' to learn more about interactive tables.';\n",
              "          element.innerHTML = '';\n",
              "          dataTable['output_type'] = 'display_data';\n",
              "          await google.colab.output.renderOutput(dataTable, element);\n",
              "          const docLink = document.createElement('div');\n",
              "          docLink.innerHTML = docLinkHtml;\n",
              "          element.appendChild(docLink);\n",
              "        }\n",
              "      </script>\n",
              "    </div>\n",
              "  </div>\n",
              "  "
            ]
          },
          "metadata": {},
          "execution_count": 190
        }
      ]
    },
    {
      "cell_type": "markdown",
      "source": [
        "Summary: \n",
        "- The overrall day-1 retention rate is **46.5%**; version A has **46.8%** and version B has **46.2%** \n",
        "- The overrall day-7 retention rate is **19.4%**; version A has **19.8%** and version B has **19.0%** \n",
        "- Version A has higher day1 and day-7 retention rate than version B\n",
        "\n"
      ],
      "metadata": {
        "id": "y37Yvkl2isHa"
      }
    },
    {
      "cell_type": "markdown",
      "source": [
        "### A/B Test for Retention Rate\n"
      ],
      "metadata": {
        "id": "_8hnVbOD2dI4"
      }
    },
    {
      "cell_type": "markdown",
      "source": [
        "**chi-2 test**\n",
        "\n",
        "- Non-parametric(data is discrete)\n",
        "- Large N\n",
        "- identify whether there exist a relationship between 2 groups"
      ],
      "metadata": {
        "id": "iUNt0N-M3iD2"
      }
    },
    {
      "cell_type": "markdown",
      "source": [
        "- Significance level(Alpha) = 0.5 = probability of rejecting the null hypothesis while it is true Type I\n",
        "\n",
        "**H0 (Null hypothesis)** : There is **No** significant differene in retention rate between two versions \n",
        "\n",
        "P(retention rate of B) - P(retention rate of A) <= 0 \n",
        "\n",
        "**H1 (Alternative hypothesis)**:  There is significant differene in retention rate between two versions \n",
        "\n",
        "P(retention rate of B) - P(retention rate of A) > 0 \n"
      ],
      "metadata": {
        "id": "zithhireuZWo"
      }
    },
    {
      "cell_type": "markdown",
      "source": [
        "**chi2_contingency**\n",
        "\n",
        "> trying to figure out if two groups has any significant difference\n",
        "\n",
        "**chisquarey**\n",
        "\n",
        "> trying to figure out if the discrect RV has any significant difference from expected distribution\n",
        "\n"
      ],
      "metadata": {
        "id": "abxfL963QOS3"
      }
    },
    {
      "cell_type": "code",
      "source": [
        "# Chi-square test of independence of variables in a contingency table - Pearson's chi-square test or the chi-square test of association\n",
        "from scipy.stats import chi2_contingency\n",
        "\n",
        "def chi2_con_test(data):\n",
        "    chi2, p, dof, ex = chi2_contingency(data)\n",
        "    alpha = 0.05\n",
        "\n",
        "    print('p=%.4f , alpha=%.2f '%(p,alpha))\n",
        "    if p > alpha:\n",
        "        print('Two verisions have no significant difference')\n",
        "    else:\n",
        "        print('Two verisions have a significant difference')"
      ],
      "metadata": {
        "id": "wbY6KJWw5eM2"
      },
      "execution_count": 194,
      "outputs": []
    },
    {
      "cell_type": "code",
      "source": [
        "day1_cross_table = pd.crosstab(data[\"version\"], data[\"retention_1\"]) \n",
        "day7_cross_table = pd.crosstab(data[\"version\"], data[\"retention_7\"]) \n",
        "\n",
        "day1_cross_table"
      ],
      "metadata": {
        "colab": {
          "base_uri": "https://localhost:8080/",
          "height": 142
        },
        "id": "-DUhTVo-9r8U",
        "outputId": "ba537d19-8ad1-4811-ae20-55fd7d1187f7"
      },
      "execution_count": 199,
      "outputs": [
        {
          "output_type": "execute_result",
          "data": {
            "text/plain": [
              "retention_1  False   True\n",
              "version                  \n",
              "A            22769  19993\n",
              "B            23359  20073"
            ],
            "text/html": [
              "\n",
              "  <div id=\"df-6d8ce920-53f9-4295-bb98-f5d194a38fea\">\n",
              "    <div class=\"colab-df-container\">\n",
              "      <div>\n",
              "<style scoped>\n",
              "    .dataframe tbody tr th:only-of-type {\n",
              "        vertical-align: middle;\n",
              "    }\n",
              "\n",
              "    .dataframe tbody tr th {\n",
              "        vertical-align: top;\n",
              "    }\n",
              "\n",
              "    .dataframe thead th {\n",
              "        text-align: right;\n",
              "    }\n",
              "</style>\n",
              "<table border=\"1\" class=\"dataframe\">\n",
              "  <thead>\n",
              "    <tr style=\"text-align: right;\">\n",
              "      <th>retention_1</th>\n",
              "      <th>False</th>\n",
              "      <th>True</th>\n",
              "    </tr>\n",
              "    <tr>\n",
              "      <th>version</th>\n",
              "      <th></th>\n",
              "      <th></th>\n",
              "    </tr>\n",
              "  </thead>\n",
              "  <tbody>\n",
              "    <tr>\n",
              "      <th>A</th>\n",
              "      <td>22769</td>\n",
              "      <td>19993</td>\n",
              "    </tr>\n",
              "    <tr>\n",
              "      <th>B</th>\n",
              "      <td>23359</td>\n",
              "      <td>20073</td>\n",
              "    </tr>\n",
              "  </tbody>\n",
              "</table>\n",
              "</div>\n",
              "      <button class=\"colab-df-convert\" onclick=\"convertToInteractive('df-6d8ce920-53f9-4295-bb98-f5d194a38fea')\"\n",
              "              title=\"Convert this dataframe to an interactive table.\"\n",
              "              style=\"display:none;\">\n",
              "        \n",
              "  <svg xmlns=\"http://www.w3.org/2000/svg\" height=\"24px\"viewBox=\"0 0 24 24\"\n",
              "       width=\"24px\">\n",
              "    <path d=\"M0 0h24v24H0V0z\" fill=\"none\"/>\n",
              "    <path d=\"M18.56 5.44l.94 2.06.94-2.06 2.06-.94-2.06-.94-.94-2.06-.94 2.06-2.06.94zm-11 1L8.5 8.5l.94-2.06 2.06-.94-2.06-.94L8.5 2.5l-.94 2.06-2.06.94zm10 10l.94 2.06.94-2.06 2.06-.94-2.06-.94-.94-2.06-.94 2.06-2.06.94z\"/><path d=\"M17.41 7.96l-1.37-1.37c-.4-.4-.92-.59-1.43-.59-.52 0-1.04.2-1.43.59L10.3 9.45l-7.72 7.72c-.78.78-.78 2.05 0 2.83L4 21.41c.39.39.9.59 1.41.59.51 0 1.02-.2 1.41-.59l7.78-7.78 2.81-2.81c.8-.78.8-2.07 0-2.86zM5.41 20L4 18.59l7.72-7.72 1.47 1.35L5.41 20z\"/>\n",
              "  </svg>\n",
              "      </button>\n",
              "      \n",
              "  <style>\n",
              "    .colab-df-container {\n",
              "      display:flex;\n",
              "      flex-wrap:wrap;\n",
              "      gap: 12px;\n",
              "    }\n",
              "\n",
              "    .colab-df-convert {\n",
              "      background-color: #E8F0FE;\n",
              "      border: none;\n",
              "      border-radius: 50%;\n",
              "      cursor: pointer;\n",
              "      display: none;\n",
              "      fill: #1967D2;\n",
              "      height: 32px;\n",
              "      padding: 0 0 0 0;\n",
              "      width: 32px;\n",
              "    }\n",
              "\n",
              "    .colab-df-convert:hover {\n",
              "      background-color: #E2EBFA;\n",
              "      box-shadow: 0px 1px 2px rgba(60, 64, 67, 0.3), 0px 1px 3px 1px rgba(60, 64, 67, 0.15);\n",
              "      fill: #174EA6;\n",
              "    }\n",
              "\n",
              "    [theme=dark] .colab-df-convert {\n",
              "      background-color: #3B4455;\n",
              "      fill: #D2E3FC;\n",
              "    }\n",
              "\n",
              "    [theme=dark] .colab-df-convert:hover {\n",
              "      background-color: #434B5C;\n",
              "      box-shadow: 0px 1px 3px 1px rgba(0, 0, 0, 0.15);\n",
              "      filter: drop-shadow(0px 1px 2px rgba(0, 0, 0, 0.3));\n",
              "      fill: #FFFFFF;\n",
              "    }\n",
              "  </style>\n",
              "\n",
              "      <script>\n",
              "        const buttonEl =\n",
              "          document.querySelector('#df-6d8ce920-53f9-4295-bb98-f5d194a38fea button.colab-df-convert');\n",
              "        buttonEl.style.display =\n",
              "          google.colab.kernel.accessAllowed ? 'block' : 'none';\n",
              "\n",
              "        async function convertToInteractive(key) {\n",
              "          const element = document.querySelector('#df-6d8ce920-53f9-4295-bb98-f5d194a38fea');\n",
              "          const dataTable =\n",
              "            await google.colab.kernel.invokeFunction('convertToInteractive',\n",
              "                                                     [key], {});\n",
              "          if (!dataTable) return;\n",
              "\n",
              "          const docLinkHtml = 'Like what you see? Visit the ' +\n",
              "            '<a target=\"_blank\" href=https://colab.research.google.com/notebooks/data_table.ipynb>data table notebook</a>'\n",
              "            + ' to learn more about interactive tables.';\n",
              "          element.innerHTML = '';\n",
              "          dataTable['output_type'] = 'display_data';\n",
              "          await google.colab.output.renderOutput(dataTable, element);\n",
              "          const docLink = document.createElement('div');\n",
              "          docLink.innerHTML = docLinkHtml;\n",
              "          element.appendChild(docLink);\n",
              "        }\n",
              "      </script>\n",
              "    </div>\n",
              "  </div>\n",
              "  "
            ]
          },
          "metadata": {},
          "execution_count": 199
        }
      ]
    },
    {
      "cell_type": "code",
      "source": [
        "print('Day 1 retention rate\\n')\n",
        "chi2_con_test(day1_cross_table)\n",
        "print('*'*50)\n",
        "print('Day 7 retention rate\\n')\n",
        "chi2_con_test(day7_cross_table)"
      ],
      "metadata": {
        "colab": {
          "base_uri": "https://localhost:8080/"
        },
        "id": "qwUoSIxshQ9d",
        "outputId": "99d1493a-4026-410c-a741-454afcec15b6"
      },
      "execution_count": 203,
      "outputs": [
        {
          "output_type": "stream",
          "name": "stdout",
          "text": [
            "Day 1 retention rate\n",
            "\n",
            "p=0.1155 , alpha=0.05 \n",
            "Two verisions have no significant difference\n",
            "**************************************************\n",
            "Day 7 retention rate\n",
            "\n",
            "p=0.0027 , alpha=0.05 \n",
            "Two verisions have a significant difference\n"
          ]
        }
      ]
    },
    {
      "cell_type": "markdown",
      "source": [
        "**Summary:**\n",
        "\n",
        "- Two versions has no significant changes in Day 1 Retension. \n",
        "- Two versions has a significant changes in Day 7 Retension.  Version B has a negative effect in day 7 retention rate. \n"
      ],
      "metadata": {
        "id": "0EHKHFTz_pbI"
      }
    },
    {
      "cell_type": "code",
      "source": [
        ""
      ],
      "metadata": {
        "id": "RzdLCXK-_-ZQ"
      },
      "execution_count": null,
      "outputs": []
    }
  ]
}